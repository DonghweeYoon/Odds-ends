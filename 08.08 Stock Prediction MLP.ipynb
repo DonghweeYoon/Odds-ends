{
 "cells": [
  {
   "cell_type": "code",
   "execution_count": 1,
   "metadata": {},
   "outputs": [
    {
     "name": "stderr",
     "output_type": "stream",
     "text": [
      "Using TensorFlow backend.\n"
     ]
    },
    {
     "name": "stdout",
     "output_type": "stream",
     "text": [
      "Done\n"
     ]
    }
   ],
   "source": [
    "#import package\n",
    "import numpy as np\n",
    "import pandas as pd\n",
    "from sklearn import preprocessing\n",
    "import matplotlib.pylab as plt\n",
    "import time\n",
    "\n",
    "from keras.models import Sequential\n",
    "from keras.layers.core import Dense, Dropout, Activation\n",
    "from keras import optimizers\n",
    "\n",
    "%matplotlib inline\n",
    "\n",
    "print('Done')"
   ]
  },
  {
   "cell_type": "code",
   "execution_count": 111,
   "metadata": {
    "scrolled": false
   },
   "outputs": [
    {
     "name": "stdout",
     "output_type": "stream",
     "text": [
      "Done\n"
     ]
    }
   ],
   "source": [
    "def readData():\n",
    "    data = pd.read_csv('C:/Users/yoon/Python/Stock_Prediction/sensex_DIV.csv', parse_dates = [0])\n",
    "    raw_dates = data.loc[30:, 'date'].reset_index(drop=True)\n",
    "    del data['date']\n",
    "    raw_data = data.loc[30:].reset_index(drop=True)\n",
    "    return raw_data, raw_dates\n",
    "\n",
    "def split_into_chunks(data, train, predict, step):\n",
    "    train_set, label_set = [], []\n",
    "    for i in range(0, len(data), step):\n",
    "        try:\n",
    "            temp_train = data.loc[i:i+train-1, 'dSMA':'dCCI'].as_matrix()\n",
    "            temp_label = data.loc[i+train-1+predict, 'return']\n",
    "            if temp_label >= 0:\n",
    "                temp_label = 1.0\n",
    "            else:\n",
    "                temp_label = 0.0\n",
    "        except:\n",
    "            break\n",
    "        train_set.append(temp_train)\n",
    "        label_set.append(temp_label)\n",
    "    return train_set, label_set\n",
    "\n",
    "def shuffle_in_unison(a, b):\n",
    "    assert len(a) == len(b)\n",
    "    shuffled_a = np.empty(a.shape, dtype=a.dtype)\n",
    "    shuffled_b = np.empty(b.shape, dtype=b.dtype)\n",
    "    permutation = np.random.permutation(len(a))\n",
    "    for old_index, new_index in enumerate(permutation):\n",
    "        shuffled_a[new_index] = a[old_index]\n",
    "        shuffled_b[new_index] = b[old_index]\n",
    "    return shuffled_a, shuffled_b\n",
    "\n",
    "\"\"\"def shuffle_in_unison(a, b):\n",
    "    assert len(a) == len(b)\n",
    "    rng_state = np.random.get_state()\n",
    "    np.random.shuffle(a)\n",
    "    np.random.set_state(rng_state)\n",
    "    np.random.shuffle(b)\n",
    "    return a, b\"\"\"\n",
    "\n",
    "def create_Xt_Yt(X, y, percentage=0.5):\n",
    "    X_train = X[0:int(len(X) * percentage)]\n",
    "    Y_train = y[0:int(len(y) * percentage)]\n",
    "    X_train, Y_train = shuffle_in_unison(X_train, Y_train)\n",
    "    X_test = X[int(len(X) * percentage):]\n",
    "    Y_test = y[int(len(X) * percentage):]\n",
    "    return X_train, X_test, Y_train, Y_test\n",
    "\n",
    "print('Done')"
   ]
  },
  {
   "cell_type": "code",
   "execution_count": 112,
   "metadata": {},
   "outputs": [
    {
     "name": "stdout",
     "output_type": "stream",
     "text": [
      "Done\n"
     ]
    }
   ],
   "source": [
    "timeSeriesList, dates = readData()\n",
    "DATA_SIZE_ON_TRAIN = 1\n",
    "TARGET_TIME = 1\n",
    "STEP_SIZE = 1\n",
    "\n",
    "print('Done')"
   ]
  },
  {
   "cell_type": "code",
   "execution_count": 113,
   "metadata": {
    "scrolled": true
   },
   "outputs": [
    {
     "name": "stdout",
     "output_type": "stream",
     "text": [
      "Done\n"
     ]
    }
   ],
   "source": [
    "X, Y = split_into_chunks(timeSeriesList, DATA_SIZE_ON_TRAIN, TARGET_TIME, STEP_SIZE)\n",
    "X, Y = np.array(X), np.array(Y)\n",
    "X = X.reshape(-1, DATA_SIZE_ON_TRAIN * 10)\n",
    "X_train, X_test, Y_train, Y_test = create_Xt_Yt(X, Y, percentage=0.5)\n",
    "print('Done')"
   ]
  },
  {
   "cell_type": "code",
   "execution_count": 115,
   "metadata": {
    "scrolled": true
   },
   "outputs": [
    {
     "name": "stdout",
     "output_type": "stream",
     "text": [
      "Training\n",
      "Epoch 1/100\n",
      "1300/1300 [==============================] - 1s - loss: 0.2563 - acc: 0.5492     \n",
      "Epoch 2/100\n",
      "1300/1300 [==============================] - 0s - loss: 0.2478 - acc: 0.5715     \n",
      "Epoch 3/100\n",
      "1300/1300 [==============================] - 0s - loss: 0.2429 - acc: 0.5738     \n",
      "Epoch 4/100\n",
      "1300/1300 [==============================] - 0s - loss: 0.2404 - acc: 0.5877     \n",
      "Epoch 5/100\n",
      "1300/1300 [==============================] - 0s - loss: 0.2394 - acc: 0.5962     \n",
      "Epoch 6/100\n",
      "1300/1300 [==============================] - 0s - loss: 0.2383 - acc: 0.5977     \n",
      "Epoch 7/100\n",
      "1300/1300 [==============================] - 0s - loss: 0.2374 - acc: 0.5985     \n",
      "Epoch 8/100\n",
      "1300/1300 [==============================] - 0s - loss: 0.2373 - acc: 0.5946     \n",
      "Epoch 9/100\n",
      "1300/1300 [==============================] - 0s - loss: 0.2365 - acc: 0.6000     \n",
      "Epoch 10/100\n",
      "1300/1300 [==============================] - 0s - loss: 0.2365 - acc: 0.5985     \n",
      "Epoch 11/100\n",
      "1300/1300 [==============================] - 0s - loss: 0.2358 - acc: 0.5992     \n",
      "Epoch 12/100\n",
      "1300/1300 [==============================] - 0s - loss: 0.2357 - acc: 0.5992     \n",
      "Epoch 13/100\n",
      "1300/1300 [==============================] - 0s - loss: 0.2357 - acc: 0.5992     - ETA: 0s - loss: 0.2389 - acc: 0.583\n",
      "Epoch 14/100\n",
      "1300/1300 [==============================] - 0s - loss: 0.2356 - acc: 0.5977     \n",
      "Epoch 15/100\n",
      "1300/1300 [==============================] - 0s - loss: 0.2352 - acc: 0.5962     \n",
      "Epoch 16/100\n",
      "1300/1300 [==============================] - 0s - loss: 0.2355 - acc: 0.5977     \n",
      "Epoch 17/100\n",
      "1300/1300 [==============================] - 0s - loss: 0.2355 - acc: 0.5985     \n",
      "Epoch 18/100\n",
      "1300/1300 [==============================] - 0s - loss: 0.2355 - acc: 0.5954     \n",
      "Epoch 19/100\n",
      "1300/1300 [==============================] - 0s - loss: 0.2350 - acc: 0.6023     \n",
      "Epoch 20/100\n",
      "1300/1300 [==============================] - 0s - loss: 0.2350 - acc: 0.6000     \n",
      "Epoch 21/100\n",
      "1300/1300 [==============================] - 0s - loss: 0.2346 - acc: 0.5892     \n",
      "Epoch 22/100\n",
      "1300/1300 [==============================] - 0s - loss: 0.2347 - acc: 0.5977     \n",
      "Epoch 23/100\n",
      "1300/1300 [==============================] - 0s - loss: 0.2348 - acc: 0.5900     \n",
      "Epoch 24/100\n",
      "1300/1300 [==============================] - 0s - loss: 0.2347 - acc: 0.5969     \n",
      "Epoch 25/100\n",
      "1300/1300 [==============================] - 0s - loss: 0.2344 - acc: 0.5962     \n",
      "Epoch 26/100\n",
      "1300/1300 [==============================] - 0s - loss: 0.2345 - acc: 0.6000     \n",
      "Epoch 27/100\n",
      "1300/1300 [==============================] - 0s - loss: 0.2344 - acc: 0.6031     \n",
      "Epoch 28/100\n",
      "1300/1300 [==============================] - 0s - loss: 0.2341 - acc: 0.5985     \n",
      "Epoch 29/100\n",
      "1300/1300 [==============================] - ETA: 0s - loss: 0.2349 - acc: 0.590 - 0s - loss: 0.2344 - acc: 0.5954     \n",
      "Epoch 30/100\n",
      "1300/1300 [==============================] - 0s - loss: 0.2340 - acc: 0.6062     \n",
      "Epoch 31/100\n",
      "1300/1300 [==============================] - 0s - loss: 0.2342 - acc: 0.6092     \n",
      "Epoch 32/100\n",
      "1300/1300 [==============================] - 0s - loss: 0.2341 - acc: 0.6054     \n",
      "Epoch 33/100\n",
      "1300/1300 [==============================] - 0s - loss: 0.2342 - acc: 0.5962     \n",
      "Epoch 34/100\n",
      "1300/1300 [==============================] - 0s - loss: 0.2337 - acc: 0.5977     \n",
      "Epoch 35/100\n",
      "1300/1300 [==============================] - 0s - loss: 0.2340 - acc: 0.6023     \n",
      "Epoch 36/100\n",
      "1300/1300 [==============================] - 0s - loss: 0.2337 - acc: 0.6008     \n",
      "Epoch 37/100\n",
      "1300/1300 [==============================] - 0s - loss: 0.2337 - acc: 0.5946     \n",
      "Epoch 38/100\n",
      "1300/1300 [==============================] - 0s - loss: 0.2337 - acc: 0.5931     \n",
      "Epoch 39/100\n",
      "1300/1300 [==============================] - 0s - loss: 0.2338 - acc: 0.5969     \n",
      "Epoch 40/100\n",
      "1300/1300 [==============================] - 0s - loss: 0.2335 - acc: 0.6023     \n",
      "Epoch 41/100\n",
      "1300/1300 [==============================] - 0s - loss: 0.2336 - acc: 0.5992     \n",
      "Epoch 42/100\n",
      "1300/1300 [==============================] - 0s - loss: 0.2339 - acc: 0.5946     \n",
      "Epoch 43/100\n",
      "1300/1300 [==============================] - 0s - loss: 0.2334 - acc: 0.5977     \n",
      "Epoch 44/100\n",
      "1300/1300 [==============================] - 0s - loss: 0.2334 - acc: 0.6015     \n",
      "Epoch 45/100\n",
      "1300/1300 [==============================] - 0s - loss: 0.2334 - acc: 0.5977     \n",
      "Epoch 46/100\n",
      "1300/1300 [==============================] - 0s - loss: 0.2333 - acc: 0.5977     \n",
      "Epoch 47/100\n",
      "1300/1300 [==============================] - 0s - loss: 0.2331 - acc: 0.5977     \n",
      "Epoch 48/100\n",
      "1300/1300 [==============================] - 0s - loss: 0.2333 - acc: 0.6000     \n",
      "Epoch 49/100\n",
      "1300/1300 [==============================] - 0s - loss: 0.2331 - acc: 0.5977     \n",
      "Epoch 50/100\n",
      "1300/1300 [==============================] - 0s - loss: 0.2329 - acc: 0.6031     \n",
      "Epoch 51/100\n",
      "1300/1300 [==============================] - 0s - loss: 0.2328 - acc: 0.6000     \n",
      "Epoch 52/100\n",
      "1300/1300 [==============================] - 0s - loss: 0.2329 - acc: 0.6023     \n",
      "Epoch 53/100\n",
      "1300/1300 [==============================] - 0s - loss: 0.2326 - acc: 0.6046     \n",
      "Epoch 54/100\n",
      "1300/1300 [==============================] - 0s - loss: 0.2330 - acc: 0.5992     \n",
      "Epoch 55/100\n",
      "1300/1300 [==============================] - 0s - loss: 0.2327 - acc: 0.6038     \n",
      "Epoch 56/100\n",
      "1300/1300 [==============================] - 0s - loss: 0.2328 - acc: 0.5992     \n",
      "Epoch 57/100\n",
      "1300/1300 [==============================] - 0s - loss: 0.2326 - acc: 0.6038     \n",
      "Epoch 58/100\n",
      "1300/1300 [==============================] - 0s - loss: 0.2331 - acc: 0.5992     \n",
      "Epoch 59/100\n",
      "1300/1300 [==============================] - 0s - loss: 0.2328 - acc: 0.6054     \n",
      "Epoch 60/100\n",
      "1300/1300 [==============================] - 0s - loss: 0.2326 - acc: 0.6015     \n",
      "Epoch 61/100\n",
      "1300/1300 [==============================] - 0s - loss: 0.2324 - acc: 0.6062     \n",
      "Epoch 62/100\n",
      "1300/1300 [==============================] - 0s - loss: 0.2324 - acc: 0.6008     \n",
      "Epoch 63/100\n",
      "1300/1300 [==============================] - 0s - loss: 0.2324 - acc: 0.6062     \n",
      "Epoch 64/100\n",
      "1300/1300 [==============================] - 0s - loss: 0.2326 - acc: 0.6077     \n",
      "Epoch 65/100\n",
      "1300/1300 [==============================] - 0s - loss: 0.2326 - acc: 0.6046     \n",
      "Epoch 66/100\n",
      "1300/1300 [==============================] - 0s - loss: 0.2321 - acc: 0.6054     \n",
      "Epoch 67/100\n",
      "1300/1300 [==============================] - ETA: 0s - loss: 0.2321 - acc: 0.600 - 0s - loss: 0.2323 - acc: 0.6038     \n",
      "Epoch 68/100\n",
      "1300/1300 [==============================] - 0s - loss: 0.2322 - acc: 0.6038     \n",
      "Epoch 69/100\n",
      "1300/1300 [==============================] - 0s - loss: 0.2321 - acc: 0.6069     \n",
      "Epoch 70/100\n",
      "1300/1300 [==============================] - 0s - loss: 0.2322 - acc: 0.6023     \n",
      "Epoch 71/100\n",
      "1300/1300 [==============================] - 0s - loss: 0.2320 - acc: 0.6031     \n",
      "Epoch 72/100\n",
      "1300/1300 [==============================] - 0s - loss: 0.2319 - acc: 0.6038     \n",
      "Epoch 73/100\n",
      "1300/1300 [==============================] - 0s - loss: 0.2319 - acc: 0.6008     \n",
      "Epoch 74/100\n",
      "1300/1300 [==============================] - ETA: 0s - loss: 0.2321 - acc: 0.603 - 0s - loss: 0.2320 - acc: 0.6046     \n",
      "Epoch 75/100\n",
      "1300/1300 [==============================] - 0s - loss: 0.2318 - acc: 0.6038     \n",
      "Epoch 76/100\n",
      "1300/1300 [==============================] - 0s - loss: 0.2320 - acc: 0.6054     \n",
      "Epoch 77/100\n",
      "1300/1300 [==============================] - 0s - loss: 0.2317 - acc: 0.6031     \n",
      "Epoch 78/100\n",
      "1300/1300 [==============================] - ETA: 0s - loss: 0.2287 - acc: 0.615 - 0s - loss: 0.2317 - acc: 0.6054     \n",
      "Epoch 79/100\n",
      "1300/1300 [==============================] - 0s - loss: 0.2315 - acc: 0.6046     \n",
      "Epoch 80/100\n",
      "1300/1300 [==============================] - 0s - loss: 0.2316 - acc: 0.6069     \n",
      "Epoch 81/100\n",
      "1300/1300 [==============================] - 0s - loss: 0.2315 - acc: 0.6046     \n",
      "Epoch 82/100\n",
      "1300/1300 [==============================] - 0s - loss: 0.2315 - acc: 0.6077     \n",
      "Epoch 83/100\n",
      "1300/1300 [==============================] - 0s - loss: 0.2316 - acc: 0.6062     \n",
      "Epoch 84/100\n",
      "1300/1300 [==============================] - 0s - loss: 0.2316 - acc: 0.6085     \n",
      "Epoch 85/100\n"
     ]
    },
    {
     "name": "stdout",
     "output_type": "stream",
     "text": [
      "1300/1300 [==============================] - 0s - loss: 0.2317 - acc: 0.6038     \n",
      "Epoch 86/100\n",
      "1300/1300 [==============================] - 0s - loss: 0.2317 - acc: 0.6077     \n",
      "Epoch 87/100\n",
      "1300/1300 [==============================] - 0s - loss: 0.2316 - acc: 0.6046     \n",
      "Epoch 88/100\n",
      "1300/1300 [==============================] - 0s - loss: 0.2315 - acc: 0.6046     \n",
      "Epoch 89/100\n",
      "1300/1300 [==============================] - 0s - loss: 0.2315 - acc: 0.6115     \n",
      "Epoch 90/100\n",
      "1300/1300 [==============================] - 0s - loss: 0.2315 - acc: 0.6054     \n",
      "Epoch 91/100\n",
      "1300/1300 [==============================] - ETA: 0s - loss: 0.2308 - acc: 0.608 - 0s - loss: 0.2317 - acc: 0.6115     \n",
      "Epoch 92/100\n",
      "1300/1300 [==============================] - 0s - loss: 0.2312 - acc: 0.6046     \n",
      "Epoch 93/100\n",
      "1300/1300 [==============================] - 0s - loss: 0.2313 - acc: 0.6046     \n",
      "Epoch 94/100\n",
      "1300/1300 [==============================] - 0s - loss: 0.2312 - acc: 0.6069     \n",
      "Epoch 95/100\n",
      "1300/1300 [==============================] - 0s - loss: 0.2312 - acc: 0.6123     \n",
      "Epoch 96/100\n",
      "1300/1300 [==============================] - 0s - loss: 0.2311 - acc: 0.6131     \n",
      "Epoch 97/100\n",
      "1300/1300 [==============================] - 0s - loss: 0.2311 - acc: 0.6054     \n",
      "Epoch 98/100\n",
      "1300/1300 [==============================] - 0s - loss: 0.2309 - acc: 0.6100     \n",
      "Epoch 99/100\n",
      "1300/1300 [==============================] - ETA: 0s - loss: 0.2318 - acc: 0.606 - 0s - loss: 0.2309 - acc: 0.6085     \n",
      "Epoch 100/100\n",
      "1300/1300 [==============================] - 0s - loss: 0.2309 - acc: 0.6092     \n",
      "Evaluating\n",
      " 128/1300 [=>............................] - ETA: 7s\n",
      "Test loss and accuracy:[0.2606223049530616, 0.51846153827813957]\n",
      "Done\n"
     ]
    }
   ],
   "source": [
    "model = Sequential()\n",
    "model.add(Dense(30, input_dim = DATA_SIZE_ON_TRAIN * 10))\n",
    "model.add(Activation('tanh'))\n",
    "model.add(Dense(1))\n",
    "model.add(Activation('sigmoid'))\n",
    "        \n",
    "sgd = optimizers.SGD(lr=0.1, momentum=0.3)\n",
    "model.compile(optimizer=sgd,\n",
    "                    loss='mse',\n",
    "                    metrics=['accuracy'])\n",
    "\n",
    "print('Training')\n",
    "model.fit(X_train, \n",
    "            Y_train, \n",
    "            epochs=100,\n",
    "            batch_size = 128,\n",
    "            verbose=1)\n",
    "\n",
    "print('Evaluating')\n",
    "score = model.evaluate(X_test, Y_test, batch_size=128)\n",
    "print(\"\\nTest loss and accuracy:\" + str(score))\n",
    "\n",
    "print('Done')"
   ]
  },
  {
   "cell_type": "code",
   "execution_count": 98,
   "metadata": {},
   "outputs": [
    {
     "data": {
      "text/plain": [
       "[<matplotlib.lines.Line2D at 0x69c0aab7f0>]"
      ]
     },
     "execution_count": 98,
     "metadata": {},
     "output_type": "execute_result"
    },
    {
     "data": {
      "image/png": "[encoded data removed]",
      "text/plain": [
       "<matplotlib.figure.Figure at 0x69c05e4f98>"
      ]
     },
     "metadata": {},
     "output_type": "display_data"
    }
   ],
   "source": [
    "predicted = model.predict(X_test)\n",
    "plt.plot(predicted[:100], color='blue')\n",
    "plt.plot(predicted[:100].round(), color='green')\n",
    "plt.plot(Y_test[:100], color='red')"
   ]
  },
  {
   "cell_type": "code",
   "execution_count": null,
   "metadata": {
    "collapsed": true
   },
   "outputs": [],
   "source": []
  }
 ],
 "metadata": {
  "kernelspec": {
   "display_name": "Python 3",
   "language": "python",
   "name": "python3"
  },
  "language_info": {
   "codemirror_mode": {
    "name": "ipython",
    "version": 3
   },
   "file_extension": ".py",
   "mimetype": "text/x-python",
   "name": "python",
   "nbconvert_exporter": "python",
   "pygments_lexer": "ipython3",
   "version": "3.6.0"
  }
 },
 "nbformat": 4,
 "nbformat_minor": 2
}
