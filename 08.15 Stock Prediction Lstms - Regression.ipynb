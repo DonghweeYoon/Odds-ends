{
 "cells": [
  {
   "cell_type": "code",
   "execution_count": 3,
   "metadata": {},
   "outputs": [
    {
     "name": "stderr",
     "output_type": "stream",
     "text": [
      "Using TensorFlow backend.\n"
     ]
    },
    {
     "name": "stdout",
     "output_type": "stream",
     "text": [
      "Done\n"
     ]
    }
   ],
   "source": [
    "#import package\n",
    "import numpy as np\n",
    "import pandas as pd\n",
    "from sklearn import preprocessing\n",
    "import matplotlib.pylab as plt\n",
    "import time\n",
    "\n",
    "from keras.models import Sequential, Model\n",
    "from keras.layers import Input, RepeatVector, Merge\n",
    "from keras.layers.core import Dense, Dropout, Activation \n",
    "from keras.layers.recurrent import LSTM, GRU\n",
    "from keras import optimizers\n",
    "\n",
    "%matplotlib inline\n",
    "\n",
    "print('Done')"
   ]
  },
  {
   "cell_type": "code",
   "execution_count": 370,
   "metadata": {
    "scrolled": false
   },
   "outputs": [
    {
     "name": "stdout",
     "output_type": "stream",
     "text": [
      "Done\n"
     ]
    }
   ],
   "source": [
    "def readData():\n",
    "    data = pd.read_csv('C:/Users/yoon/Python/Stock_Prediction/data/Samsung_20_DIV.csv', parse_dates = [0])\n",
    "    raw_dates = data.loc[30:, 'date'].reset_index(drop=True)\n",
    "    del data['date']\n",
    "    raw_data = data.loc[30:].reset_index(drop=True)\n",
    "    return raw_data, raw_dates\n",
    "\n",
    "def split_into_chunks(data, train, predict, step):\n",
    "    train_set, label_set, evaluation_set = [], [], []\n",
    "        \n",
    "    for i in range(0, len(data), step):\n",
    "        try:  \n",
    "            temp_train = data.loc[i:i+train-1, 'dSMA':'dCCI'].as_matrix()\n",
    "            #temp_train = preprocessing.scale(temp_train)\n",
    "            temp_label_set = np.array(data.loc[i:i+train-1, 'close'])\n",
    "            temp_eval = np.array(data.loc[i+train-1+predict, 'close'])\n",
    "            \n",
    "            mean_ = temp_label_set.mean()\n",
    "            scale_ = temp_label_set.std()\n",
    "            temp_label = (temp_eval- mean_) / scale_\n",
    "\n",
    "        except:\n",
    "            break\n",
    "        train_set.append(temp_train)\n",
    "        label_set.append(temp_label)\n",
    "        evaluation_set.append([temp_eval, mean_, scale_])\n",
    "        \n",
    "    return train_set, label_set, evaluation_set\n",
    "\n",
    "def shuffle_in_unison(a, b):\n",
    "    assert len(a) == len(b)\n",
    "    rng_state = np.random.get_state()\n",
    "    np.random.shuffle(a)\n",
    "    np.random.set_state(rng_state)\n",
    "    np.random.shuffle(b)\n",
    "    return a, b\n",
    "\n",
    "def create_Xt_Yt_Zt(X, y, z, percentage=0.9):\n",
    "#    X, y = shuffle_in_unison(X, y)\n",
    "    X_train1 = X[0:int(len(X) * percentage)]\n",
    "    X_train2 = X[0:int(len(X) * percentage)]\n",
    "    Y_train = y[0:int(len(y) * percentage)]\n",
    "#    X_train, Y_train = shuffle_in_unison(X_train, Y_train)\n",
    "    X_test1 = X[int(len(X) * percentage):]\n",
    "    X_test2 = X[int(len(X) * percentage):]\n",
    "    Y_test = y[int(len(X) * percentage):]\n",
    "    Z_test = z[int(len(X) * percentage):]\n",
    "    return X_train1, X_train2, Y_train, X_test1, X_test2, Y_test, Z_test\n",
    "\n",
    "print('Done')"
   ]
  },
  {
   "cell_type": "code",
   "execution_count": 371,
   "metadata": {
    "scrolled": true
   },
   "outputs": [
    {
     "name": "stdout",
     "output_type": "stream",
     "text": [
      "Done\n"
     ]
    }
   ],
   "source": [
    "timeSeriesList, dates = readData()\n",
    "TIMESTEPS = 10\n",
    "TARGET_TIME = 1\n",
    "STEP_SIZE = 1\n",
    "DATA_DIM = 10\n",
    "\n",
    "print('Done')"
   ]
  },
  {
   "cell_type": "code",
   "execution_count": 372,
   "metadata": {
    "scrolled": true
   },
   "outputs": [
    {
     "name": "stdout",
     "output_type": "stream",
     "text": [
      "Done\n"
     ]
    }
   ],
   "source": [
    "X, Y, Z = split_into_chunks(timeSeriesList, TIMESTEPS, TARGET_TIME, STEP_SIZE)\n",
    "X, Y, Z = np.array(X[:-1]), np.array(Y[:-1]), np.array(Z[:-1])\n",
    "X_train1, X_train2, Y_train, X_test1, X_test2, Y_test, Z_test = create_Xt_Yt_Zt(X, Y, Z)\n",
    "\n",
    "print('Done')"
   ]
  },
  {
   "cell_type": "code",
   "execution_count": 401,
   "metadata": {
    "scrolled": true
   },
   "outputs": [
    {
     "name": "stderr",
     "output_type": "stream",
     "text": [
      "C:\\Anaconda\\lib\\site-packages\\ipykernel\\__main__.py:11: UserWarning: The `Merge` layer is deprecated and will be removed after 08/2017. Use instead layers from `keras.layers.merge`, e.g. `add`, `concatenate`, etc.\n"
     ]
    },
    {
     "name": "stdout",
     "output_type": "stream",
     "text": [
      "Done\n"
     ]
    }
   ],
   "source": [
    "encoder_A = Sequential()\n",
    "encoder_A.add(LSTM(16, return_sequences=True, input_shape=(TIMESTEPS, DATA_DIM)))\n",
    "encoder_A.add(LSTM(4, return_sequences=False))\n",
    "\n",
    "encoder_B = Sequential()\n",
    "encoder_B.add(LSTM(16, return_sequences=True, input_shape=(TIMESTEPS, DATA_DIM)))\n",
    "encoder_B.add(LSTM(4, return_sequences=False))\n",
    "\n",
    "decoder = Sequential()\n",
    "decoder.add(Merge([encoder_A, encoder_B], mode = 'concat'))\n",
    "decoder.add(Dense(1, activation = 'sigmoid'))\n",
    "\n",
    "decoder.compile(optimizer='adam', loss='mse',\n",
    "               metrics=['mse'])\n",
    "print(\"Done\")"
   ]
  },
  {
   "cell_type": "code",
   "execution_count": 402,
   "metadata": {
    "scrolled": true
   },
   "outputs": [
    {
     "name": "stdout",
     "output_type": "stream",
     "text": [
      "Training...\n",
      "Epoch 1/100\n",
      "4659/4659 [==============================] - 52s - loss: 2.8937 - mean_squared_error: 2.8937    \n",
      "Epoch 2/100\n",
      "4659/4659 [==============================] - 5s - loss: 2.7203 - mean_squared_error: 2.7203     \n",
      "Epoch 3/100\n",
      "4659/4659 [==============================] - 5s - loss: 2.5990 - mean_squared_error: 2.5990     \n",
      "Epoch 4/100\n",
      "4659/4659 [==============================] - 5s - loss: 2.4826 - mean_squared_error: 2.4826     \n",
      "Epoch 5/100\n",
      "4659/4659 [==============================] - 5s - loss: 2.3539 - mean_squared_error: 2.3539     \n",
      "Epoch 6/100\n",
      "4659/4659 [==============================] - 5s - loss: 2.2583 - mean_squared_error: 2.2583     \n",
      "Epoch 7/100\n",
      "4659/4659 [==============================] - 5s - loss: 2.1995 - mean_squared_error: 2.1995     \n",
      "Epoch 8/100\n",
      "4659/4659 [==============================] - 5s - loss: 2.1627 - mean_squared_error: 2.1627     \n",
      "Epoch 9/100\n",
      "4659/4659 [==============================] - 5s - loss: 2.1404 - mean_squared_error: 2.1404     \n",
      "Epoch 10/100\n",
      "4659/4659 [==============================] - 5s - loss: 2.1276 - mean_squared_error: 2.1276     \n",
      "Epoch 11/100\n",
      "4659/4659 [==============================] - 5s - loss: 2.1180 - mean_squared_error: 2.1180     \n",
      "Epoch 12/100\n",
      "4659/4659 [==============================] - 5s - loss: 2.1102 - mean_squared_error: 2.1102     \n",
      "Epoch 13/100\n",
      "4659/4659 [==============================] - 5s - loss: 2.1048 - mean_squared_error: 2.1048     \n",
      "Epoch 14/100\n",
      "4659/4659 [==============================] - 5s - loss: 2.1001 - mean_squared_error: 2.1001     \n",
      "Epoch 15/100\n",
      "4659/4659 [==============================] - 5s - loss: 2.0960 - mean_squared_error: 2.0960     \n",
      "Epoch 16/100\n",
      "4659/4659 [==============================] - 5s - loss: 2.0926 - mean_squared_error: 2.0926     \n",
      "Epoch 17/100\n",
      "4659/4659 [==============================] - 5s - loss: 2.0894 - mean_squared_error: 2.0894     \n",
      "Epoch 18/100\n",
      "4659/4659 [==============================] - 5s - loss: 2.0865 - mean_squared_error: 2.0865     \n",
      "Epoch 19/100\n",
      "4659/4659 [==============================] - 5s - loss: 2.0835 - mean_squared_error: 2.0835     \n",
      "Epoch 20/100\n",
      "4659/4659 [==============================] - 5s - loss: 2.0821 - mean_squared_error: 2.0821     \n",
      "Epoch 21/100\n",
      "4659/4659 [==============================] - 5s - loss: 2.0802 - mean_squared_error: 2.0802     \n",
      "Epoch 22/100\n",
      "4659/4659 [==============================] - 5s - loss: 2.0755 - mean_squared_error: 2.0755     \n",
      "Epoch 23/100\n",
      "4659/4659 [==============================] - 5s - loss: 2.0741 - mean_squared_error: 2.0741     \n",
      "Epoch 24/100\n",
      "4659/4659 [==============================] - 5s - loss: 2.0709 - mean_squared_error: 2.0709     \n",
      "Epoch 25/100\n",
      "4659/4659 [==============================] - 6s - loss: 2.0688 - mean_squared_error: 2.0688     \n",
      "Epoch 26/100\n",
      "4659/4659 [==============================] - 5s - loss: 2.0697 - mean_squared_error: 2.0697     \n",
      "Epoch 27/100\n",
      "4659/4659 [==============================] - 6s - loss: 2.0645 - mean_squared_error: 2.0645     \n",
      "Epoch 28/100\n",
      "4659/4659 [==============================] - 5s - loss: 2.0624 - mean_squared_error: 2.0624     \n",
      "Epoch 29/100\n",
      "4659/4659 [==============================] - 5s - loss: 2.0598 - mean_squared_error: 2.0598     \n",
      "Epoch 30/100\n",
      "4659/4659 [==============================] - 5s - loss: 2.0583 - mean_squared_error: 2.0583     \n",
      "Epoch 31/100\n",
      "4659/4659 [==============================] - 5s - loss: 2.0561 - mean_squared_error: 2.0561     \n",
      "Epoch 32/100\n",
      "4659/4659 [==============================] - 5s - loss: 2.0559 - mean_squared_error: 2.0559     \n",
      "Epoch 33/100\n",
      "4659/4659 [==============================] - 5s - loss: 2.0520 - mean_squared_error: 2.0520     \n",
      "Epoch 34/100\n",
      "4659/4659 [==============================] - 5s - loss: 2.0499 - mean_squared_error: 2.0499     \n",
      "Epoch 35/100\n",
      "4659/4659 [==============================] - 5s - loss: 2.0479 - mean_squared_error: 2.0479     \n",
      "Epoch 36/100\n",
      "4659/4659 [==============================] - 5s - loss: 2.0466 - mean_squared_error: 2.0466     \n",
      "Epoch 37/100\n",
      "4659/4659 [==============================] - 5s - loss: 2.0462 - mean_squared_error: 2.0462     \n",
      "Epoch 38/100\n",
      "4659/4659 [==============================] - ETA: 0s - loss: 2.0552 - mean_squared_error: 2.05 - 5s - loss: 2.0448 - mean_squared_error: 2.0448     \n",
      "Epoch 39/100\n",
      "4659/4659 [==============================] - 6s - loss: 2.0412 - mean_squared_error: 2.0412     \n",
      "Epoch 40/100\n",
      "4659/4659 [==============================] - 6s - loss: 2.0391 - mean_squared_error: 2.0391      ETA: 0s - loss: 2.0309 - mean_squared_err\n",
      "Epoch 41/100\n",
      "4659/4659 [==============================] - 5s - loss: 2.0391 - mean_squared_error: 2.0391     \n",
      "Epoch 42/100\n",
      "4659/4659 [==============================] - 5s - loss: 2.0369 - mean_squared_error: 2.0369     \n",
      "Epoch 43/100\n",
      "4659/4659 [==============================] - 5s - loss: 2.0361 - mean_squared_error: 2.0361     \n",
      "Epoch 44/100\n",
      "4659/4659 [==============================] - 5s - loss: 2.0334 - mean_squared_error: 2.0334     \n",
      "Epoch 45/100\n",
      "4659/4659 [==============================] - 5s - loss: 2.0318 - mean_squared_error: 2.0318     \n",
      "Epoch 46/100\n",
      "4659/4659 [==============================] - 5s - loss: 2.0309 - mean_squared_error: 2.0309     \n",
      "Epoch 47/100\n",
      "4659/4659 [==============================] - 5s - loss: 2.0287 - mean_squared_error: 2.0287     \n",
      "Epoch 48/100\n",
      "4659/4659 [==============================] - 5s - loss: 2.0280 - mean_squared_error: 2.0280     \n",
      "Epoch 49/100\n",
      "4659/4659 [==============================] - 5s - loss: 2.0281 - mean_squared_error: 2.0281     \n",
      "Epoch 50/100\n",
      "4659/4659 [==============================] - 5s - loss: 2.0265 - mean_squared_error: 2.0265     \n",
      "Epoch 51/100\n",
      "4659/4659 [==============================] - 5s - loss: 2.0257 - mean_squared_error: 2.0257     \n",
      "Epoch 52/100\n",
      "4659/4659 [==============================] - 5s - loss: 2.0249 - mean_squared_error: 2.0249     \n",
      "Epoch 53/100\n",
      "4659/4659 [==============================] - 5s - loss: 2.0233 - mean_squared_error: 2.0233     \n",
      "Epoch 54/100\n",
      "4659/4659 [==============================] - 5s - loss: 2.0217 - mean_squared_error: 2.0217     \n",
      "Epoch 55/100\n",
      "4659/4659 [==============================] - 5s - loss: 2.0204 - mean_squared_error: 2.0204     \n",
      "Epoch 56/100\n",
      "4659/4659 [==============================] - 5s - loss: 2.0191 - mean_squared_error: 2.0191     \n",
      "Epoch 57/100\n",
      "4659/4659 [==============================] - 5s - loss: 2.0178 - mean_squared_error: 2.0178     \n",
      "Epoch 58/100\n",
      "4659/4659 [==============================] - 5s - loss: 2.0181 - mean_squared_error: 2.0181     \n",
      "Epoch 59/100\n",
      "4659/4659 [==============================] - 5s - loss: 2.0176 - mean_squared_error: 2.0176     \n",
      "Epoch 60/100\n",
      "4659/4659 [==============================] - 5s - loss: 2.0175 - mean_squared_error: 2.0175     \n",
      "Epoch 61/100\n",
      "4659/4659 [==============================] - 5s - loss: 2.0134 - mean_squared_error: 2.0134     \n",
      "Epoch 62/100\n",
      "4659/4659 [==============================] - 5s - loss: 2.0132 - mean_squared_error: 2.0132     \n",
      "Epoch 63/100\n",
      "4659/4659 [==============================] - 5s - loss: 2.0120 - mean_squared_error: 2.0120     \n",
      "Epoch 64/100\n",
      "4659/4659 [==============================] - 5s - loss: 2.0123 - mean_squared_error: 2.0123     \n",
      "Epoch 65/100\n",
      "4659/4659 [==============================] - 5s - loss: 2.0090 - mean_squared_error: 2.0090     \n",
      "Epoch 66/100\n",
      "4659/4659 [==============================] - 5s - loss: 2.0074 - mean_squared_error: 2.0074     \n",
      "Epoch 67/100\n",
      "4659/4659 [==============================] - 5s - loss: 2.0076 - mean_squared_error: 2.0076     \n",
      "Epoch 68/100\n",
      "4659/4659 [==============================] - 5s - loss: 2.0069 - mean_squared_error: 2.0069     \n",
      "Epoch 69/100\n",
      "4659/4659 [==============================] - 5s - loss: 2.0041 - mean_squared_error: 2.0041     \n",
      "Epoch 70/100\n",
      "4659/4659 [==============================] - 5s - loss: 2.0035 - mean_squared_error: 2.0035     \n",
      "Epoch 71/100\n",
      "4659/4659 [==============================] - 5s - loss: 2.0019 - mean_squared_error: 2.0019     \n",
      "Epoch 72/100\n",
      "4659/4659 [==============================] - 5s - loss: 2.0005 - mean_squared_error: 2.0005     \n",
      "Epoch 73/100\n",
      "4659/4659 [==============================] - 5s - loss: 2.0011 - mean_squared_error: 2.0011     \n",
      "Epoch 74/100\n"
     ]
    },
    {
     "name": "stdout",
     "output_type": "stream",
     "text": [
      "4659/4659 [==============================] - 5s - loss: 2.0023 - mean_squared_error: 2.0023     \n",
      "Epoch 75/100\n",
      "4659/4659 [==============================] - 5s - loss: 2.0033 - mean_squared_error: 2.0033     \n",
      "Epoch 76/100\n",
      "4659/4659 [==============================] - 5s - loss: 2.0009 - mean_squared_error: 2.0009     \n",
      "Epoch 77/100\n",
      "4659/4659 [==============================] - 5s - loss: 1.9995 - mean_squared_error: 1.9995     \n",
      "Epoch 78/100\n",
      "4659/4659 [==============================] - 5s - loss: 1.9981 - mean_squared_error: 1.9981     \n",
      "Epoch 79/100\n",
      "4659/4659 [==============================] - 5s - loss: 2.0023 - mean_squared_error: 2.0023     \n",
      "Epoch 80/100\n",
      "4659/4659 [==============================] - 5s - loss: 1.9949 - mean_squared_error: 1.9949     \n",
      "Epoch 81/100\n",
      "4659/4659 [==============================] - 5s - loss: 1.9941 - mean_squared_error: 1.9941     \n",
      "Epoch 82/100\n",
      "4659/4659 [==============================] - 5s - loss: 1.9925 - mean_squared_error: 1.9925     \n",
      "Epoch 83/100\n",
      "4659/4659 [==============================] - 5s - loss: 1.9931 - mean_squared_error: 1.9931     \n",
      "Epoch 84/100\n",
      "4659/4659 [==============================] - 5s - loss: 1.9923 - mean_squared_error: 1.9923     \n",
      "Epoch 85/100\n",
      "4659/4659 [==============================] - 5s - loss: 1.9908 - mean_squared_error: 1.9908     \n",
      "Epoch 86/100\n",
      "4659/4659 [==============================] - 5s - loss: 1.9903 - mean_squared_error: 1.9903     \n",
      "Epoch 87/100\n",
      "4659/4659 [==============================] - 5s - loss: 1.9902 - mean_squared_error: 1.9902     \n",
      "Epoch 88/100\n",
      "4659/4659 [==============================] - 5s - loss: 1.9901 - mean_squared_error: 1.9901     \n",
      "Epoch 89/100\n",
      "4659/4659 [==============================] - 5s - loss: 1.9896 - mean_squared_error: 1.9896     \n",
      "Epoch 90/100\n",
      "4659/4659 [==============================] - 5s - loss: 1.9896 - mean_squared_error: 1.9896     \n",
      "Epoch 91/100\n",
      "4659/4659 [==============================] - 5s - loss: 1.9884 - mean_squared_error: 1.9884     \n",
      "Epoch 92/100\n",
      "4659/4659 [==============================] - 5s - loss: 1.9884 - mean_squared_error: 1.9884     \n",
      "Epoch 93/100\n",
      "4659/4659 [==============================] - 5s - loss: 1.9879 - mean_squared_error: 1.9879     \n",
      "Epoch 94/100\n",
      "4659/4659 [==============================] - 5s - loss: 1.9867 - mean_squared_error: 1.9867     \n",
      "Epoch 95/100\n",
      "4659/4659 [==============================] - 5s - loss: 1.9869 - mean_squared_error: 1.9869     \n",
      "Epoch 96/100\n",
      "4659/4659 [==============================] - 5s - loss: 1.9854 - mean_squared_error: 1.9854     \n",
      "Epoch 97/100\n",
      "4659/4659 [==============================] - 5s - loss: 1.9863 - mean_squared_error: 1.9863     \n",
      "Epoch 98/100\n",
      "4659/4659 [==============================] - 5s - loss: 1.9852 - mean_squared_error: 1.9852     \n",
      "Epoch 99/100\n",
      "4659/4659 [==============================] - 5s - loss: 1.9833 - mean_squared_error: 1.9833     \n",
      "Epoch 100/100\n",
      "4659/4659 [==============================] - 5s - loss: 1.9829 - mean_squared_error: 1.9829     \n",
      "Evaluating...\n",
      "518/518 [==============================] - 7s     \n",
      "\n",
      "Test loss and accuracy:[2.2353472774093217, 2.2353472774093217]\n",
      "Done\n"
     ]
    }
   ],
   "source": [
    "print(\"Training...\")\n",
    "decoder.fit([X_train1, X_train2], \n",
    "            Y_train, \n",
    "            epochs = 100,\n",
    "            batch_size = 128,\n",
    "            verbose=1)\n",
    "\n",
    "print(\"Evaluating...\")\n",
    "score = decoder.evaluate([X_test1, X_test2], Y_test, batch_size=128)\n",
    "print(\"\\nTest loss and accuracy:\" + str(score))\n",
    "\n",
    "print('Done')"
   ]
  },
  {
   "cell_type": "code",
   "execution_count": 403,
   "metadata": {},
   "outputs": [],
   "source": [
    "predicted = decoder.predict([X_test1, X_test2])\n",
    "\n",
    "for i in range (0, len(predicted)):\n",
    "    predicted[i] = (predicted[i] * Z_test[i,2]) + Z_test[i,1]\n",
    "\n",
    "evaluation = Z_test[:,0]\n",
    "\n",
    "print(\"Done\")"
   ]
  },
  {
   "cell_type": "code",
   "execution_count": 405,
   "metadata": {},
   "outputs": [
    {
     "name": "stdout",
     "output_type": "stream",
     "text": [
      "0.5481481481481482\n",
      "Done\n"
     ]
    }
   ],
   "source": [
    "j = 0\n",
    "k = 0\n",
    "for i in range(1,300):\n",
    "    pred_sign = predicted[i]-evaluation[i-1]\n",
    "    eval_sign = evaluation[i]-evaluation[i-1]\n",
    "    if pred_sign * eval_sign > 0 :\n",
    "        j = j+1\n",
    "    elif pred_sign * eval_sign < 0:\n",
    "        k = k+1\n",
    "        \n",
    "print(j/(j+k))\n",
    "\n",
    "print(\"Done\")"
   ]
  },
  {
   "cell_type": "code",
   "execution_count": 406,
   "metadata": {
    "scrolled": false
   },
   "outputs": [
    {
     "data": {
      "text/plain": [
       "[<matplotlib.lines.Line2D at 0xd44a9dc240>]"
      ]
     },
     "execution_count": 406,
     "metadata": {},
     "output_type": "execute_result"
    },
    {
     "data": {
      "image/png": "[encoded data removed]",
      "text/plain": [
       "<matplotlib.figure.Figure at 0xd43f2bf898>"
      ]
     },
     "metadata": {},
     "output_type": "display_data"
    }
   ],
   "source": [
    "plt.figure(figsize=(20, 6))\n",
    "#plt.xticks(np.arange(0,201,5))\n",
    "#plt.yticks(np.arange(0,1.1,0.1))\n",
    "plt.grid(True)\n",
    "plt.plot(predicted[:300], color='blue')\n",
    "#plt.scatter(range(0,100),predicted[:100].round(), color='red', marker='x')\n",
    "plt.plot(evaluation[:300], color='black')"
   ]
  }
 ],
 "metadata": {
  "kernelspec": {
   "display_name": "Python 3",
   "language": "python",
   "name": "python3"
  },
  "language_info": {
   "codemirror_mode": {
    "name": "ipython",
    "version": 3
   },
   "file_extension": ".py",
   "mimetype": "text/x-python",
   "name": "python",
   "nbconvert_exporter": "python",
   "pygments_lexer": "ipython3",
   "version": "3.6.0"
  }
 },
 "nbformat": 4,
 "nbformat_minor": 2
}
