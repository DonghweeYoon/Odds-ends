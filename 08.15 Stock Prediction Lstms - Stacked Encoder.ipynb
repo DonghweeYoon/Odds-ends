{
 "cells": [
  {
   "cell_type": "code",
   "execution_count": 4,
   "metadata": {},
   "outputs": [
    {
     "name": "stderr",
     "output_type": "stream",
     "text": [
      "Using TensorFlow backend.\n"
     ]
    },
    {
     "name": "stdout",
     "output_type": "stream",
     "text": [
      "Done\n"
     ]
    }
   ],
   "source": [
    "#import package\n",
    "import numpy as np\n",
    "import pandas as pd\n",
    "from sklearn import preprocessing\n",
    "import matplotlib.pylab as plt\n",
    "import time\n",
    "\n",
    "from keras.models import Sequential, Model\n",
    "from keras.layers import Input, RepeatVector\n",
    "from keras.layers.core import Dense, Dropout, Activation \n",
    "from keras.layers.recurrent import LSTM, GRU\n",
    "from keras import optimizers\n",
    "\n",
    "%matplotlib inline\n",
    "\n",
    "print('Done')"
   ]
  },
  {
   "cell_type": "code",
   "execution_count": 5,
   "metadata": {
    "scrolled": false
   },
   "outputs": [
    {
     "name": "stdout",
     "output_type": "stream",
     "text": [
      "Done\n"
     ]
    }
   ],
   "source": [
    "def readData():\n",
    "    data = pd.read_csv('C:/Users/yoon/Python/Stock_Prediction/data/Samsung_20_DIV.csv', parse_dates = [0])\n",
    "    raw_dates = data.loc[30:, 'date'].reset_index(drop=True)\n",
    "    del data['date']\n",
    "    raw_data = data.loc[30:].reset_index(drop=True)\n",
    "    return raw_data, raw_dates\n",
    "\n",
    "def split_into_chunks(data, train, predict, step):\n",
    "    train_set, label_set = [], []\n",
    "        \n",
    "    for i in range(0, len(data), step):\n",
    "        try:  \n",
    "            temp_train = data.loc[i:i+train-1, 'SMA':'CCI']#.as_matrix()\n",
    "            temp_train = preprocessing.scale(temp_train)\n",
    "            temp_label = data.loc[i+train-1+predict, 'return']\n",
    "            if temp_label > 0:\n",
    "                temp_label = 1.0\n",
    "            else:\n",
    "                temp_label = 0.0\n",
    "        except:\n",
    "            break\n",
    "        train_set.append(temp_train)\n",
    "        label_set.append(temp_label)\n",
    "    \n",
    "    return train_set, label_set\n",
    "\n",
    "def shuffle_in_unison(a, b):\n",
    "    assert len(a) == len(b)\n",
    "    rng_state = np.random.get_state()\n",
    "    np.random.shuffle(a)\n",
    "    np.random.set_state(rng_state)\n",
    "    np.random.shuffle(b)\n",
    "    return a, b\n",
    "\n",
    "def create_Xt_Yt(X, y, percentage=0.8):\n",
    "#    X, y = shuffle_in_unison(X, y)\n",
    "    X_train = X[0:int(len(X) * percentage)]\n",
    "    Y_train = y[0:int(len(y) * percentage)]\n",
    "#    X_train, Y_train = shuffle_in_unison(X_train, Y_train)\n",
    "    X_test = X[int(len(X) * percentage):]\n",
    "    Y_test = y[int(len(X) * percentage):]\n",
    "    return X_train, X_test, Y_train, Y_test\n",
    "\n",
    "print('Done')"
   ]
  },
  {
   "cell_type": "code",
   "execution_count": 6,
   "metadata": {
    "scrolled": true
   },
   "outputs": [
    {
     "name": "stdout",
     "output_type": "stream",
     "text": [
      "Done\n"
     ]
    }
   ],
   "source": [
    "timeSeriesList, dates = readData()\n",
    "TIMESTEPS = 30\n",
    "TARGET_TIME = 1\n",
    "STEP_SIZE = 1\n",
    "EMB_SIZE = 10\n",
    "\n",
    "print('Done')"
   ]
  },
  {
   "cell_type": "code",
   "execution_count": 7,
   "metadata": {
    "scrolled": true
   },
   "outputs": [
    {
     "name": "stdout",
     "output_type": "stream",
     "text": [
      "Done\n"
     ]
    }
   ],
   "source": [
    "X, Y = split_into_chunks(timeSeriesList, TIMESTEPS, TARGET_TIME, STEP_SIZE)\n",
    "X, Y = np.array(X), np.array(Y)\n",
    "#X = X.reshape(-1, DATA_SIZE_ON_TRAIN * 10)\n",
    "X_train, X_test, Y_train, Y_test = create_Xt_Yt(X, Y)\n",
    "print('Done')"
   ]
  },
  {
   "cell_type": "code",
   "execution_count": 34,
   "metadata": {
    "scrolled": true
   },
   "outputs": [
    {
     "name": "stdout",
     "output_type": "stream",
     "text": [
      "Done\n"
     ]
    }
   ],
   "source": [
    "model = Sequential()\n",
    "\n",
    "inputLayer = Input(shape=(TIMESTEPS, EMB_SIZE))\n",
    "encoded = LSTM(8, return_sequences=False)(inputLayer)\n",
    "encoded = RepeatVector(TIMESTEPS)(encoded)\n",
    "\n",
    "encoded = LSTM(7, return_sequences=False)(encoded)\n",
    "encoded = RepeatVector(TIMESTEPS)(encoded)\n",
    "\n",
    "encoded = LSTM(6, return_sequences=False)(encoded)\n",
    "\n",
    "decoded = RepeatVector(TIMESTEPS)(encoded)\n",
    "decoded = LSTM(7, return_sequences=False)(decoded)\n",
    "\n",
    "decoded = RepeatVector(TIMESTEPS)(decoded)\n",
    "decoded = LSTM(8, return_sequences=False)(decoded)\n",
    "\n",
    "decoded = RepeatVector(TIMESTEPS)(decoded)\n",
    "OutputLayer = LSTM(1, return_sequences=False)(decoded)\n",
    "\n",
    "autoencoder = Model(inputLayer, OutputLayer)\n",
    "\n",
    "autoencoder.compile(optimizer='adam', loss='mse', metrics=['accuracy'])\n",
    "print('Done')"
   ]
  },
  {
   "cell_type": "code",
   "execution_count": 8,
   "metadata": {},
   "outputs": [
    {
     "name": "stdout",
     "output_type": "stream",
     "text": [
      "Done\n"
     ]
    }
   ],
   "source": [
    "#model = Sequential()\n",
    "\n",
    "inputLayer = Input(shape=(TIMESTEPS, EMB_SIZE))\n",
    "encoded = LSTM(8, return_sequences=False)(inputLayer)\n",
    "decoded = RepeatVector(TIMESTEPS)(encoded)\n",
    "\n",
    "encoded = LSTM(10, return_sequences=False)(decoded)\n",
    "decoded = RepeatVector(TIMESTEPS)(encoded)\n",
    "\n",
    "encoded = LSTM(4, return_sequences=False)(decoded)\n",
    "decoded = RepeatVector(TIMESTEPS)(encoded)\n",
    "\n",
    "encoded = LSTM(10, return_sequences=False)(decoded)\n",
    "decoded = RepeatVector(TIMESTEPS)(encoded)\n",
    "\n",
    "OutputLayer = LSTM(1, return_sequences=False)(decoded)\n",
    "\n",
    "autoencoder = Model(inputLayer, OutputLayer)\n",
    "\n",
    "autoencoder.compile(optimizer='adam', loss='mse', metrics=['accuracy'])\n",
    "print('Done')"
   ]
  },
  {
   "cell_type": "code",
   "execution_count": 9,
   "metadata": {
    "scrolled": true
   },
   "outputs": [
    {
     "name": "stdout",
     "output_type": "stream",
     "text": [
      "Training...\n",
      "Epoch 1/10\n",
      "4126/4126 [==============================] - 36s - loss: 0.3511 - acc: 0.5402    \n",
      "Epoch 2/10\n",
      "4126/4126 [==============================] - 13s - loss: 0.2482 - acc: 0.5279    \n",
      "Epoch 3/10\n",
      "4126/4126 [==============================] - 13s - loss: 0.2478 - acc: 0.5385    \n",
      "Epoch 4/10\n",
      "4126/4126 [==============================] - 13s - loss: 0.2475 - acc: 0.5434    \n",
      "Epoch 5/10\n",
      "4126/4126 [==============================] - 15s - loss: 0.2472 - acc: 0.5400    \n",
      "Epoch 6/10\n",
      "4126/4126 [==============================] - 14s - loss: 0.2472 - acc: 0.5371    \n",
      "Epoch 7/10\n",
      "4126/4126 [==============================] - 13s - loss: 0.2467 - acc: 0.5431    \n",
      "Epoch 8/10\n",
      "4126/4126 [==============================] - 13s - loss: 0.2465 - acc: 0.5407    \n",
      "Epoch 9/10\n",
      "4126/4126 [==============================] - 13s - loss: 0.2461 - acc: 0.5446    \n",
      "Epoch 10/10\n",
      "4126/4126 [==============================] - 14s - loss: 0.2460 - acc: 0.5499    \n",
      "Evaluating...\n",
      "1032/1032 [==============================] - 3s     \n",
      "\n",
      "Test loss and accuracy:[0.25073314590971602, 0.52034883720930236]\n",
      "Done\n"
     ]
    }
   ],
   "source": [
    "print(\"Training...\")\n",
    "autoencoder.fit(X_train, \n",
    "            Y_train, \n",
    "            epochs = 10,\n",
    "            batch_size = 128,\n",
    "            verbose=1)\n",
    "\n",
    "print(\"Evaluating...\")\n",
    "score = autoencoder.evaluate(X_test, Y_test, batch_size=128)\n",
    "print(\"\\nTest loss and accuracy:\" + str(score))\n",
    "print('Done')"
   ]
  },
  {
   "cell_type": "code",
   "execution_count": 10,
   "metadata": {},
   "outputs": [
    {
     "data": {
      "text/plain": [
       "[<matplotlib.lines.Line2D at 0x167b105a90>]"
      ]
     },
     "execution_count": 10,
     "metadata": {},
     "output_type": "execute_result"
    },
    {
     "data": {
      "image/png": "[encoded data removed]",
      "text/plain": [
       "<matplotlib.figure.Figure at 0x166de4f780>"
      ]
     },
     "metadata": {},
     "output_type": "display_data"
    }
   ],
   "source": [
    "predicted = decoder.predict([X_test1, X_test2])\n",
    "plt.figure(figsize=(20, 6))\n",
    "plt.xticks(np.arange(0,101,5))\n",
    "plt.yticks(np.arange(0,1.1,0.1))\n",
    "plt.grid(True)\n",
    "plt.plot(range(0,100), predicted[:100], color='blue')\n",
    "plt.scatter(range(0,100),predicted[:100].round(), color='red', marker='x')\n",
    "plt.scatter(range(0,100), Y_test[:100], color='black', marker='.')"
   ]
  }
 ],
 "metadata": {
  "kernelspec": {
   "display_name": "Python 3",
   "language": "python",
   "name": "python3"
  },
  "language_info": {
   "codemirror_mode": {
    "name": "ipython",
    "version": 3
   },
   "file_extension": ".py",
   "mimetype": "text/x-python",
   "name": "python",
   "nbconvert_exporter": "python",
   "pygments_lexer": "ipython3",
   "version": "3.6.0"
  }
 },
 "nbformat": 4,
 "nbformat_minor": 2
}
