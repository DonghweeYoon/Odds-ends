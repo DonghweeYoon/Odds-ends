{
 "cells": [
  {
   "cell_type": "code",
   "execution_count": 2,
   "metadata": {},
   "outputs": [
    {
     "name": "stderr",
     "output_type": "stream",
     "text": [
      "Using TensorFlow backend.\n"
     ]
    },
    {
     "name": "stdout",
     "output_type": "stream",
     "text": [
      "Done\n"
     ]
    }
   ],
   "source": [
    "#import package\n",
    "import numpy as np\n",
    "import pandas as pd\n",
    "from sklearn import preprocessing\n",
    "import matplotlib.pylab as plt\n",
    "import time\n",
    "\n",
    "from keras.models import Sequential, Model\n",
    "from keras.layers import Input, RepeatVector, Merge\n",
    "from keras.layers.core import Dense, Dropout, Activation \n",
    "from keras.layers.recurrent import LSTM, GRU\n",
    "from keras import optimizers\n",
    "\n",
    "%matplotlib inline\n",
    "\n",
    "print('Done')"
   ]
  },
  {
   "cell_type": "code",
   "execution_count": 63,
   "metadata": {
    "scrolled": false
   },
   "outputs": [
    {
     "name": "stdout",
     "output_type": "stream",
     "text": [
      "Done\n"
     ]
    }
   ],
   "source": [
    "def readData():\n",
    "    data = pd.read_csv('C:/Users/yoon/Python/Stock_Prediction/data/Samsung_20_DIV.csv', parse_dates = [0])\n",
    "    raw_dates = data.loc[30:, 'date'].reset_index(drop=True)\n",
    "    del data['date']\n",
    "    raw_data = data.loc[30:].reset_index(drop=True)\n",
    "    return raw_data, raw_dates\n",
    "\n",
    "def split_into_chunks(data, train, predict, step):\n",
    "    train_set, label_set = [], []\n",
    "        \n",
    "    for i in range(0, len(data), step):\n",
    "        try:  \n",
    "            temp_train = data.loc[i:i+train-1, 'dSMA':'dCCI'].as_matrix()\n",
    "            #temp_train = preprocessing.scale(temp_train)\n",
    "            temp_label = 0;\n",
    "            for j in range(1, 11):\n",
    "                temp_label = temp_label + data.loc[i+train-1+predict, 'return']\n",
    "            if temp_label > 0:\n",
    "                temp_label = 1.0\n",
    "            else:\n",
    "                temp_label = 0.0\n",
    "        except:\n",
    "            break\n",
    "        train_set.append(temp_train)\n",
    "        label_set.append(temp_label)\n",
    "    \n",
    "    return train_set, label_set\n",
    "\n",
    "def shuffle_in_unison(a, b):\n",
    "    assert len(a) == len(b)\n",
    "    rng_state = np.random.get_state()\n",
    "    np.random.shuffle(a)\n",
    "    np.random.set_state(rng_state)\n",
    "    np.random.shuffle(b)\n",
    "    return a, b\n",
    "\n",
    "def create_Xt_Yt(X, y, percentage=0.8):\n",
    "#    X, y = shuffle_in_unison(X, y)\n",
    "    X_train1 = X[0:int(len(X) * percentage)]\n",
    "    X_train2 = X[0:int(len(X) * percentage)]\n",
    "    Y_train = y[0:int(len(y) * percentage)]\n",
    "#    X_train, Y_train = shuffle_in_unison(X_train, Y_train)\n",
    "    X_test1 = X[int(len(X) * percentage):]\n",
    "    X_test2 = X[int(len(X) * percentage):]\n",
    "    Y_test = y[int(len(X) * percentage):]\n",
    "    return X_train1, X_train2, Y_train, X_test1, X_test2, Y_test\n",
    "\n",
    "print('Done')"
   ]
  },
  {
   "cell_type": "code",
   "execution_count": 64,
   "metadata": {
    "scrolled": true
   },
   "outputs": [
    {
     "name": "stdout",
     "output_type": "stream",
     "text": [
      "Done\n"
     ]
    }
   ],
   "source": [
    "timeSeriesList, dates = readData()\n",
    "TIMESTEPS = 10\n",
    "TARGET_TIME = 1\n",
    "STEP_SIZE = 1\n",
    "EMB_SIZE = 10\n",
    "\n",
    "print('Done')"
   ]
  },
  {
   "cell_type": "code",
   "execution_count": 65,
   "metadata": {
    "scrolled": true
   },
   "outputs": [
    {
     "name": "stdout",
     "output_type": "stream",
     "text": [
      "Done\n"
     ]
    }
   ],
   "source": [
    "X, Y = split_into_chunks(timeSeriesList, TIMESTEPS, TARGET_TIME, STEP_SIZE)\n",
    "X, Y = np.array(X), np.array(Y)\n",
    "#X = X.reshape(-1, DATA_SIZE_ON_TRAIN * 10)\n",
    "X_train1, X_train2, Y_train, X_test1, X_test2, Y_test = create_Xt_Yt(X, Y)\n",
    "\n",
    "print('Done')"
   ]
  },
  {
   "cell_type": "code",
   "execution_count": 66,
   "metadata": {
    "scrolled": true
   },
   "outputs": [
    {
     "name": "stderr",
     "output_type": "stream",
     "text": [
      "C:\\Anaconda\\lib\\site-packages\\ipykernel\\__main__.py:8: UserWarning: The `Merge` layer is deprecated and will be removed after 08/2017. Use instead layers from `keras.layers.merge`, e.g. `add`, `concatenate`, etc.\n"
     ]
    },
    {
     "name": "stdout",
     "output_type": "stream",
     "text": [
      "done\n"
     ]
    }
   ],
   "source": [
    "encoder_A = Sequential()\n",
    "encoder_A.add(LSTM(16, return_sequences=False, input_shape=(TIMESTEPS, EMB_SIZE)))\n",
    "\n",
    "encoder_B = Sequential()\n",
    "encoder_B.add(LSTM(16, return_sequences=False, input_shape=(TIMESTEPS, EMB_SIZE)))\n",
    "\n",
    "decoder = Sequential()\n",
    "decoder.add(Merge([encoder_A, encoder_B], mode = 'concat'))\n",
    "decoder.add(Dense(1, activation = 'sigmoid'))\n",
    "\n",
    "decoder.compile(optimizer='adam', loss='mse',\n",
    "               metrics=['accuracy'])\n",
    "print(\"done\")"
   ]
  },
  {
   "cell_type": "code",
   "execution_count": 67,
   "metadata": {
    "scrolled": true
   },
   "outputs": [
    {
     "name": "stdout",
     "output_type": "stream",
     "text": [
      "Training...\n",
      "Epoch 1/10\n",
      "4142/4142 [==============================] - 19s - loss: 0.2500 - acc: 0.5181    \n",
      "Epoch 2/10\n",
      "4142/4142 [==============================] - 2s - loss: 0.2472 - acc: 0.5493     \n",
      "Epoch 3/10\n",
      "4142/4142 [==============================] - 2s - loss: 0.2465 - acc: 0.5577     \n",
      "Epoch 4/10\n",
      "4142/4142 [==============================] - 2s - loss: 0.2461 - acc: 0.5555     \n",
      "Epoch 5/10\n",
      "4142/4142 [==============================] - 2s - loss: 0.2458 - acc: 0.5616     \n",
      "Epoch 6/10\n",
      "4142/4142 [==============================] - 2s - loss: 0.2454 - acc: 0.5637     \n",
      "Epoch 7/10\n",
      "4142/4142 [==============================] - 2s - loss: 0.2452 - acc: 0.5594     \n",
      "Epoch 8/10\n",
      "4142/4142 [==============================] - 2s - loss: 0.2447 - acc: 0.5640     \n",
      "Epoch 9/10\n",
      "4142/4142 [==============================] - 2s - loss: 0.2444 - acc: 0.5662     \n",
      "Epoch 10/10\n",
      "4142/4142 [==============================] - 2s - loss: 0.2441 - acc: 0.5652     \n",
      "Evaluating...\n",
      "1036/1036 [==============================] - 2s     \n",
      "\n",
      "Test loss and accuracy:[0.25020192396686802, 0.52702702691196013]\n",
      "Done\n"
     ]
    }
   ],
   "source": [
    "print(\"Training...\")\n",
    "decoder.fit([X_train1, X_train2], \n",
    "            Y_train, \n",
    "            epochs = 10,\n",
    "            batch_size = 128,\n",
    "            verbose=1)\n",
    "\n",
    "print(\"Evaluating...\")\n",
    "score = decoder.evaluate([X_test1, X_test2], Y_test, batch_size=128)\n",
    "print(\"\\nTest loss and accuracy:\" + str(score))\n",
    "print('Done')"
   ]
  },
  {
   "cell_type": "code",
   "execution_count": 68,
   "metadata": {
    "scrolled": false
   },
   "outputs": [
    {
     "data": {
      "text/plain": [
       "<matplotlib.collections.PathCollection at 0x902243a438>"
      ]
     },
     "execution_count": 68,
     "metadata": {},
     "output_type": "execute_result"
    },
    {
     "data": {
      "image/png": "[encoded data removed]",
      "text/plain": [
       "<matplotlib.figure.Figure at 0x90216f2d30>"
      ]
     },
     "metadata": {},
     "output_type": "display_data"
    }
   ],
   "source": [
    "predicted = decoder.predict([X_test1, X_test2])\n",
    "plt.figure(figsize=(20, 6))\n",
    "plt.xticks(np.arange(0,101,5))\n",
    "plt.yticks(np.arange(0,1.1,0.1))\n",
    "plt.grid(True)\n",
    "plt.plot(range(0,100), predicted[:100], color='blue')\n",
    "plt.scatter(range(0,100),predicted[:100].round(), color='red', marker='x')\n",
    "plt.scatter(range(0,100), Y_test[:100], color='black', marker='.')"
   ]
  }
 ],
 "metadata": {
  "kernelspec": {
   "display_name": "Python 3",
   "language": "python",
   "name": "python3"
  },
  "language_info": {
   "codemirror_mode": {
    "name": "ipython",
    "version": 3
   },
   "file_extension": ".py",
   "mimetype": "text/x-python",
   "name": "python",
   "nbconvert_exporter": "python",
   "pygments_lexer": "ipython3",
   "version": "3.6.0"
  }
 },
 "nbformat": 4,
 "nbformat_minor": 2
}
