{
 "cells": [
  {
   "cell_type": "code",
   "execution_count": 50,
   "metadata": {},
   "outputs": [
    {
     "name": "stdout",
     "output_type": "stream",
     "text": [
      "Done\n"
     ]
    }
   ],
   "source": [
    "#import package\n",
    "import numpy as np\n",
    "import pandas as pd\n",
    "from sklearn import preprocessing\n",
    "import matplotlib.pylab as plt\n",
    "import time\n",
    "import keras\n",
    "\n",
    "from keras.models import Sequential, Model\n",
    "from keras.layers.core import Dense, Dropout, Activation\n",
    "from keras.layers.merge import Concatenate\n",
    "from keras.layers import LSTM, Input\n",
    "from keras import optimizers\n",
    "from keras import losses\n",
    "\n",
    "%matplotlib inline\n",
    "\n",
    "print('Done')"
   ]
  },
  {
   "cell_type": "code",
   "execution_count": 74,
   "metadata": {
    "scrolled": false
   },
   "outputs": [
    {
     "name": "stdout",
     "output_type": "stream",
     "text": [
      "Done\n"
     ]
    }
   ],
   "source": [
    "def readData():\n",
    "    data = pd.read_csv('C:/Users/yoon/Python/Stock_Prediction/data/Samsung_20_DIV.csv', parse_dates = [0])\n",
    "    raw_dates = data.loc[:, 'date'].reset_index(drop=True)\n",
    "    del data['date']\n",
    "    raw_data = data.loc[:].reset_index(drop=True)\n",
    "    return raw_data, raw_dates\n",
    "\n",
    "def split_into_chunks(data, train, predict, step):\n",
    "    train_set, label_set = [], []\n",
    "        \n",
    "    for i in range(0, len(data), step):\n",
    "        try:  \n",
    "            temp_train = data.loc[i:i+train-1, 'dSMA':'dCCI'].as_matrix()\n",
    "            temp_label = data.loc[i+train-1+predict, 'return']\n",
    "            if temp_label >= 0.0:\n",
    "                temp_label = [1.0, 0.0]\n",
    "            else:\n",
    "                temp_label = [0.0, 1.0]\n",
    "        except:\n",
    "            break\n",
    "        train_set.append(temp_train)\n",
    "        label_set.append(temp_label)\n",
    "    \n",
    "    return train_set, label_set\n",
    "\n",
    "def shuffle_in_unison(a1, a2, b):\n",
    "    assert len(a1) == len(b)\n",
    "    assert len(a2) == len(b)\n",
    "    rng_state = np.random.get_state()\n",
    "    np.random.shuffle(a1)\n",
    "    np.random.set_state(rng_state)\n",
    "    np.random.shuffle(a2)\n",
    "    np.random.shuffle(b)\n",
    "    return a1, a2, b\n",
    "\n",
    "def create_Xt_Yt(X, y, percentage=0.8):\n",
    "    X_train1 = X[0:int(len(X) * percentage)]\n",
    "    X_train2 = X[0:int(len(X) * percentage)]\n",
    "    Y_train = y[0:int(len(y) * percentage)]\n",
    "    #X_train1,X_train2, Y_train = shuffle_in_unison(X_train1, X_train2, Y_train)\n",
    "    X_test1 = X[int(len(X) * percentage):]\n",
    "    X_test2 = X[int(len(X) * percentage):]\n",
    "    Y_test = y[int(len(X) * percentage):]\n",
    "    #X_test1, X_test2, Y_test = shuffle_in_unison(X_test1, X_test2, Y_test)\n",
    "    \n",
    "    return X_train1, X_train2, X_test1, X_test2, Y_train, Y_test\n",
    "\n",
    "print('Done')"
   ]
  },
  {
   "cell_type": "code",
   "execution_count": 68,
   "metadata": {},
   "outputs": [
    {
     "name": "stdout",
     "output_type": "stream",
     "text": [
      "Done\n"
     ]
    }
   ],
   "source": [
    "timeSeriesList, dates = readData()\n",
    "TIME_STEPS = 10\n",
    "TARGET_TIME = 1\n",
    "STEP_SIZE = 1\n",
    "DATA_DIM=10\n",
    "\n",
    "print('Done')"
   ]
  },
  {
   "cell_type": "code",
   "execution_count": 75,
   "metadata": {
    "scrolled": true
   },
   "outputs": [
    {
     "name": "stdout",
     "output_type": "stream",
     "text": [
      "Done\n"
     ]
    }
   ],
   "source": [
    "X, Y = split_into_chunks(timeSeriesList, TIME_STEPS, TARGET_TIME, STEP_SIZE)\n",
    "X, Y = np.array(X), np.array(Y)\n",
    "#X = X.reshape(-1, DATA_SIZE_ON_TRAIN * 10)\n",
    "X_train1, X_train2, X_test1, X_test2, Y_train, Y_test = create_Xt_Yt(X, Y)\n",
    "print('Done')"
   ]
  },
  {
   "cell_type": "code",
   "execution_count": 69,
   "metadata": {
    "scrolled": true
   },
   "outputs": [
    {
     "name": "stderr",
     "output_type": "stream",
     "text": [
      "C:\\Anaconda\\lib\\site-packages\\ipykernel\\__main__.py:8: UserWarning: The `Merge` layer is deprecated and will be removed after 08/2017. Use instead layers from `keras.layers.merge`, e.g. `add`, `concatenate`, etc.\n"
     ]
    },
    {
     "name": "stdout",
     "output_type": "stream",
     "text": [
      "done\n"
     ]
    }
   ],
   "source": [
    "encoder_A = Sequential()\n",
    "encoder_A.add(LSTM(16, return_sequences=False, input_shape=(TIME_STEPS, DATA_DIM)))\n",
    "\n",
    "encoder_B = Sequential()\n",
    "encoder_B.add(LSTM(16, return_sequences=False, input_shape=(TIME_STEPS, DATA_DIM)))\n",
    "\n",
    "decoder = Sequential()\n",
    "decoder.add(Merge([encoder_A, encoder_B], mode = 'concat'))\n",
    "decoder.add(Dense(2, activation = 'softmax'))\n",
    "\n",
    "decoder.compile(optimizer='adam', loss='binary_crossentropy',\n",
    "               metrics=['accuracy'])\n",
    "print(\"done\")"
   ]
  },
  {
   "cell_type": "code",
   "execution_count": 76,
   "metadata": {},
   "outputs": [
    {
     "name": "stdout",
     "output_type": "stream",
     "text": [
      "Training...\n",
      "Epoch 1/5\n",
      "4166/4166 [==============================] - 2s - loss: nan - acc: 0.0000e+00     \n",
      "Epoch 2/5\n",
      "4166/4166 [==============================] - 2s - loss: nan - acc: 0.0000e+00     \n",
      "Epoch 3/5\n",
      "4166/4166 [==============================] - 2s - loss: nan - acc: 0.0000e+00     \n",
      "Epoch 4/5\n",
      "4166/4166 [==============================] - 2s - loss: nan - acc: 0.0000e+00     \n",
      "Epoch 5/5\n",
      "4166/4166 [==============================] - 2s - loss: nan - acc: 0.0000e+00     \n",
      "Evaluating...\n",
      " 896/1042 [========================>.....] - ETA: 0s\n",
      "Test loss and accuracy:[nan, 0.0]\n"
     ]
    }
   ],
   "source": [
    "print(\"Training...\")\n",
    "decoder.fit([X_train1, X_train2], Y_train,\n",
    "            batch_size=128, epochs=5)\n",
    "\n",
    "print(\"Evaluating...\")\n",
    "score = decoder.evaluate([X_test1, X_test2], Y_test, batch_size=128)\n",
    "print(\"\\nTest loss and accuracy:\" + str(score))"
   ]
  },
  {
   "cell_type": "code",
   "execution_count": 77,
   "metadata": {},
   "outputs": [
    {
     "data": {
      "text/plain": [
       "[<matplotlib.lines.Line2D at 0x91d23f5ba8>,\n",
       " <matplotlib.lines.Line2D at 0x91d23f5d68>]"
      ]
     },
     "execution_count": 77,
     "metadata": {},
     "output_type": "execute_result"
    },
    {
     "data": {
      "image/png": "[encoded data removed]",
      "text/plain": [
       "<matplotlib.figure.Figure at 0x91c81dfa20>"
      ]
     },
     "metadata": {},
     "output_type": "display_data"
    }
   ],
   "source": [
    "predicted = decoder.predict([X_test1, X_test2])\n",
    "plt.figure(figsize=(20, 6))\n",
    "plt.xticks(np.arange(0,101,5))\n",
    "plt.yticks(np.arange(0,1.1,0.1))\n",
    "plt.grid(True)\n",
    "plt.plot(range(0,100), predicted[:100], color='blue')\n",
    "plt.scatter(range(0,100),predicted[:100].round(), color='red', marker='x')\n",
    "plt.scatter(range(0,100), Y_test[:100], color='black', marker='.')"
   ]
  },
  {
   "cell_type": "code",
   "execution_count": null,
   "metadata": {
    "collapsed": true
   },
   "outputs": [],
   "source": []
  }
 ],
 "metadata": {
  "kernelspec": {
   "display_name": "Python 3",
   "language": "python",
   "name": "python3"
  },
  "language_info": {
   "codemirror_mode": {
    "name": "ipython",
    "version": 3
   },
   "file_extension": ".py",
   "mimetype": "text/x-python",
   "name": "python",
   "nbconvert_exporter": "python",
   "pygments_lexer": "ipython3",
   "version": "3.6.0"
  }
 },
 "nbformat": 4,
 "nbformat_minor": 2
}
