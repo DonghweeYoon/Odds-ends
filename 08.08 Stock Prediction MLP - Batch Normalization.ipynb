{
 "cells": [
  {
   "cell_type": "code",
   "execution_count": 1,
   "metadata": {},
   "outputs": [
    {
     "name": "stderr",
     "output_type": "stream",
     "text": [
      "Using TensorFlow backend.\n"
     ]
    },
    {
     "name": "stdout",
     "output_type": "stream",
     "text": [
      "Done\n"
     ]
    }
   ],
   "source": [
    "#import package\n",
    "import numpy as np\n",
    "import pandas as pd\n",
    "from sklearn import preprocessing\n",
    "import matplotlib.pylab as plt\n",
    "import time\n",
    "\n",
    "from keras.models import Sequential\n",
    "from keras.layers.core import Dense, Dropout, Activation\n",
    "from keras.layers.normalization import BatchNormalization\n",
    "from keras.layers.advanced_activations import *\n",
    "from keras import regularizers\n",
    "from keras import optimizers\n",
    "\n",
    "%matplotlib inline\n",
    "\n",
    "print('Done')"
   ]
  },
  {
   "cell_type": "code",
   "execution_count": 2,
   "metadata": {
    "scrolled": false
   },
   "outputs": [
    {
     "name": "stdout",
     "output_type": "stream",
     "text": [
      "Done\n"
     ]
    }
   ],
   "source": [
    "def readData():\n",
    "    data = pd.read_csv('C:/Users/yoon/Python/Stock_Prediction/sensex_DIV.csv', parse_dates = [0])\n",
    "    raw_dates = data.loc[30:, 'date'].reset_index(drop=True)\n",
    "    del data['date']\n",
    "    raw_data = data.loc[30:].reset_index(drop=True)\n",
    "    return raw_data, raw_dates\n",
    "\n",
    "def split_into_chunks(data, train, predict, step):\n",
    "    train_set, label_set = [], []\n",
    "    for i in range(0, len(data), step):\n",
    "        try:\n",
    "            temp_train = data.loc[i:i+train-1, 'dSMA':'dCCI'].as_matrix()\n",
    "            temp_label = data.loc[i+train-1+predict, 'return']\n",
    "            if temp_label >= 0:\n",
    "                temp_label = [1.0, 0.0]\n",
    "            elif temp_label < 0:\n",
    "                temp_label = [0.0, 1.0]\n",
    "        except:\n",
    "            break\n",
    "        train_set.append(temp_train)\n",
    "        label_set.append(temp_label)\n",
    "    return train_set, label_set\n",
    "\n",
    "def shuffle_in_unison(a, b):\n",
    "    assert len(a) == len(b)\n",
    "    rng_state = np.random.get_state()\n",
    "    np.random.shuffle(a)\n",
    "    np.random.set_state(rng_state)\n",
    "    np.random.shuffle(b)\n",
    "    return a, b\n",
    "\n",
    "def create_Xt_Yt(X, y, percentage=0.5):\n",
    "    X_train = X[0:int(len(X) * percentage)]\n",
    "    Y_train = y[0:int(len(y) * percentage)]\n",
    "    X_train, Y_train = shuffle_in_unison(X_train, Y_train)\n",
    "    X_test = X[int(len(X) * percentage):]\n",
    "    Y_test = y[int(len(X) * percentage):]\n",
    "    return X_train, X_test, Y_train, Y_test\n",
    "\n",
    "print('Done')"
   ]
  },
  {
   "cell_type": "code",
   "execution_count": 3,
   "metadata": {},
   "outputs": [
    {
     "name": "stdout",
     "output_type": "stream",
     "text": [
      "Done\n"
     ]
    }
   ],
   "source": [
    "timeSeriesList, dates = readData()\n",
    "DATA_SIZE_ON_TRAIN = 1\n",
    "TARGET_TIME = 1\n",
    "STEP_SIZE = 1\n",
    "\n",
    "print('Done')"
   ]
  },
  {
   "cell_type": "code",
   "execution_count": 8,
   "metadata": {
    "scrolled": true
   },
   "outputs": [
    {
     "name": "stdout",
     "output_type": "stream",
     "text": [
      "Done\n"
     ]
    }
   ],
   "source": [
    "X, Y = split_into_chunks(timeSeriesList, DATA_SIZE_ON_TRAIN, TARGET_TIME, STEP_SIZE)\n",
    "X, Y = np.array(X), np.array(Y)\n",
    "X = X.reshape(-1, DATA_SIZE_ON_TRAIN * 10)\n",
    "X_train, X_test, Y_train, Y_test = create_Xt_Yt(X, Y, percentage=0.5)\n",
    "print('Done')"
   ]
  },
  {
   "cell_type": "code",
   "execution_count": 5,
   "metadata": {
    "scrolled": true
   },
   "outputs": [
    {
     "name": "stdout",
     "output_type": "stream",
     "text": [
      "Training...\n",
      "Epoch 1/100\n",
      "1300/1300 [==============================] - 4s - loss: 109.3006 - acc: 0.5308     \n",
      "Epoch 2/100\n",
      "1300/1300 [==============================] - 0s - loss: 82.7267 - acc: 0.5269     \n",
      "Epoch 3/100\n",
      "1300/1300 [==============================] - 0s - loss: 68.3802 - acc: 0.5146      ETA: 0s - loss: 70.7136 - acc: 0.\n",
      "Epoch 4/100\n",
      "1300/1300 [==============================] - 0s - loss: 59.4618 - acc: 0.5331     \n",
      "Epoch 5/100\n",
      "1300/1300 [==============================] - 0s - loss: 51.3633 - acc: 0.5423     \n",
      "Epoch 6/100\n",
      "1300/1300 [==============================] - 0s - loss: 45.4982 - acc: 0.5615      ETA: 0s - loss: 46.8605 - acc: 0.\n",
      "Epoch 7/100\n",
      "1300/1300 [==============================] - 0s - loss: 39.9681 - acc: 0.5408     \n",
      "Epoch 8/100\n",
      "1300/1300 [==============================] - 0s - loss: 35.5614 - acc: 0.5377     \n",
      "Epoch 9/100\n",
      "1300/1300 [==============================] - 0s - loss: 31.2428 - acc: 0.5331     \n",
      "Epoch 10/100\n",
      "1300/1300 [==============================] - 0s - loss: 28.1211 - acc: 0.5500     \n",
      "Epoch 11/100\n",
      "1300/1300 [==============================] - 0s - loss: 25.0409 - acc: 0.5454     \n",
      "Epoch 12/100\n",
      "1300/1300 [==============================] - 0s - loss: 22.4032 - acc: 0.5431     \n",
      "Epoch 13/100\n",
      "1300/1300 [==============================] - 0s - loss: 20.0378 - acc: 0.5600     \n",
      "Epoch 14/100\n",
      "1300/1300 [==============================] - 0s - loss: 18.1143 - acc: 0.5400     \n",
      "Epoch 15/100\n",
      "1300/1300 [==============================] - 0s - loss: 16.3314 - acc: 0.5531     \n",
      "Epoch 16/100\n",
      "1300/1300 [==============================] - 0s - loss: 14.5998 - acc: 0.5477     \n",
      "Epoch 17/100\n",
      "1300/1300 [==============================] - 0s - loss: 13.1992 - acc: 0.5538     \n",
      "Epoch 18/100\n",
      "1300/1300 [==============================] - 0s - loss: 11.9396 - acc: 0.5615     \n",
      "Epoch 19/100\n",
      "1300/1300 [==============================] - 0s - loss: 10.6854 - acc: 0.5646     \n",
      "Epoch 20/100\n",
      "1300/1300 [==============================] - 0s - loss: 9.7523 - acc: 0.5715     \n",
      "Epoch 21/100\n",
      "1300/1300 [==============================] - 0s - loss: 8.8707 - acc: 0.5515     \n",
      "Epoch 22/100\n",
      "1300/1300 [==============================] - 0s - loss: 8.0061 - acc: 0.5662     \n",
      "Epoch 23/100\n",
      "1300/1300 [==============================] - 0s - loss: 7.2599 - acc: 0.5746     \n",
      "Epoch 24/100\n",
      "1300/1300 [==============================] - 0s - loss: 6.5597 - acc: 0.5800     \n",
      "Epoch 25/100\n",
      "1300/1300 [==============================] - 0s - loss: 5.9886 - acc: 0.5615     \n",
      "Epoch 26/100\n",
      "1300/1300 [==============================] - 0s - loss: 5.4007 - acc: 0.5731     \n",
      "Epoch 27/100\n",
      "1300/1300 [==============================] - 0s - loss: 4.9795 - acc: 0.5746     \n",
      "Epoch 28/100\n",
      "1300/1300 [==============================] - 0s - loss: 4.5535 - acc: 0.5831     \n",
      "Epoch 29/100\n",
      "1300/1300 [==============================] - 0s - loss: 4.1534 - acc: 0.5923     \n",
      "Epoch 30/100\n",
      "1300/1300 [==============================] - 0s - loss: 3.8136 - acc: 0.5815     \n",
      "Epoch 31/100\n",
      "1300/1300 [==============================] - 0s - loss: 3.4937 - acc: 0.5815     \n",
      "Epoch 32/100\n",
      "1300/1300 [==============================] - 0s - loss: 3.2147 - acc: 0.5846     \n",
      "Epoch 33/100\n",
      "1300/1300 [==============================] - 0s - loss: 2.9684 - acc: 0.5915     \n",
      "Epoch 34/100\n",
      "1300/1300 [==============================] - 0s - loss: 2.7401 - acc: 0.6054     \n",
      "Epoch 35/100\n",
      "1300/1300 [==============================] - 0s - loss: 2.5294 - acc: 0.5854     \n",
      "Epoch 36/100\n",
      "1300/1300 [==============================] - 0s - loss: 2.3518 - acc: 0.5823     \n",
      "Epoch 37/100\n",
      "1300/1300 [==============================] - 0s - loss: 2.1865 - acc: 0.5754     \n",
      "Epoch 38/100\n",
      "1300/1300 [==============================] - 0s - loss: 2.0502 - acc: 0.5892     \n",
      "Epoch 39/100\n",
      "1300/1300 [==============================] - 0s - loss: 1.9372 - acc: 0.5777     \n",
      "Epoch 40/100\n",
      "1300/1300 [==============================] - 0s - loss: 1.8269 - acc: 0.5877     \n",
      "Epoch 41/100\n",
      "1300/1300 [==============================] - 0s - loss: 1.7324 - acc: 0.5808     \n",
      "Epoch 42/100\n",
      "1300/1300 [==============================] - 0s - loss: 1.6409 - acc: 0.6023     \n",
      "Epoch 43/100\n",
      "1300/1300 [==============================] - 0s - loss: 1.5659 - acc: 0.5885     \n",
      "Epoch 44/100\n",
      "1300/1300 [==============================] - 0s - loss: 1.4898 - acc: 0.5900     \n",
      "Epoch 45/100\n",
      "1300/1300 [==============================] - 0s - loss: 1.4240 - acc: 0.5962     \n",
      "Epoch 46/100\n",
      "1300/1300 [==============================] - 0s - loss: 1.3758 - acc: 0.6000     \n",
      "Epoch 47/100\n",
      "1300/1300 [==============================] - 0s - loss: 1.3262 - acc: 0.5762     - ETA: 0s - loss: 1.3347 - acc: 0.58\n",
      "Epoch 48/100\n",
      "1300/1300 [==============================] - 0s - loss: 1.2645 - acc: 0.5900     \n",
      "Epoch 49/100\n",
      "1300/1300 [==============================] - 0s - loss: 1.2380 - acc: 0.5923     \n",
      "Epoch 50/100\n",
      "1300/1300 [==============================] - 0s - loss: 1.1878 - acc: 0.5815     \n",
      "Epoch 51/100\n",
      "1300/1300 [==============================] - 0s - loss: 1.1658 - acc: 0.5992     - ETA: 0s - loss: 1.1905 - acc: 0.\n",
      "Epoch 52/100\n",
      "1300/1300 [==============================] - 0s - loss: 1.1299 - acc: 0.5915     \n",
      "Epoch 53/100\n",
      "1300/1300 [==============================] - 0s - loss: 1.0950 - acc: 0.5846     \n",
      "Epoch 54/100\n",
      "1300/1300 [==============================] - 0s - loss: 1.0835 - acc: 0.5800     \n",
      "Epoch 55/100\n",
      "1300/1300 [==============================] - 0s - loss: 1.0558 - acc: 0.5846     \n",
      "Epoch 56/100\n",
      "1300/1300 [==============================] - 0s - loss: 1.0332 - acc: 0.5823     \n",
      "Epoch 57/100\n",
      "1300/1300 [==============================] - 0s - loss: 1.0162 - acc: 0.5931     \n",
      "Epoch 58/100\n",
      "1300/1300 [==============================] - 0s - loss: 0.9916 - acc: 0.5915     \n",
      "Epoch 59/100\n",
      "1300/1300 [==============================] - 0s - loss: 0.9845 - acc: 0.6031     \n",
      "Epoch 60/100\n",
      "1300/1300 [==============================] - 0s - loss: 0.9588 - acc: 0.5846     \n",
      "Epoch 61/100\n",
      "1300/1300 [==============================] - 0s - loss: 0.9490 - acc: 0.5885     \n",
      "Epoch 62/100\n",
      "1300/1300 [==============================] - 0s - loss: 0.9310 - acc: 0.5908     \n",
      "Epoch 63/100\n",
      "1300/1300 [==============================] - 0s - loss: 0.9203 - acc: 0.5854     \n",
      "Epoch 64/100\n",
      "1300/1300 [==============================] - 0s - loss: 0.9032 - acc: 0.6077     \n",
      "Epoch 65/100\n",
      "1300/1300 [==============================] - 0s - loss: 0.8979 - acc: 0.5977     \n",
      "Epoch 66/100\n",
      "1300/1300 [==============================] - 0s - loss: 0.8969 - acc: 0.5862     \n",
      "Epoch 67/100\n",
      "1300/1300 [==============================] - 0s - loss: 0.8864 - acc: 0.5969     \n",
      "Epoch 68/100\n",
      "1300/1300 [==============================] - 0s - loss: 0.8681 - acc: 0.5931     \n",
      "Epoch 69/100\n",
      "1300/1300 [==============================] - 0s - loss: 0.8573 - acc: 0.6015     \n",
      "Epoch 70/100\n",
      "1300/1300 [==============================] - 0s - loss: 0.8552 - acc: 0.5931     \n",
      "Epoch 71/100\n",
      "1300/1300 [==============================] - 0s - loss: 0.8472 - acc: 0.6015     \n",
      "Epoch 72/100\n",
      "1300/1300 [==============================] - 0s - loss: 0.8405 - acc: 0.5900     \n",
      "Epoch 73/100\n",
      "1300/1300 [==============================] - 0s - loss: 0.8364 - acc: 0.5954     \n",
      "Epoch 74/100\n",
      "1300/1300 [==============================] - 0s - loss: 0.8273 - acc: 0.5885     \n",
      "Epoch 75/100\n",
      "1300/1300 [==============================] - 0s - loss: 0.8290 - acc: 0.6008     \n",
      "Epoch 76/100\n",
      "1300/1300 [==============================] - 0s - loss: 0.8181 - acc: 0.5992     \n",
      "Epoch 77/100\n",
      "1300/1300 [==============================] - 0s - loss: 0.8118 - acc: 0.5938     \n",
      "Epoch 78/100\n",
      "1300/1300 [==============================] - 0s - loss: 0.8065 - acc: 0.5977     \n",
      "Epoch 79/100\n",
      "1300/1300 [==============================] - 0s - loss: 0.8023 - acc: 0.5946     \n",
      "Epoch 80/100\n",
      "1300/1300 [==============================] - 0s - loss: 0.7957 - acc: 0.5977     \n",
      "Epoch 81/100\n",
      "1300/1300 [==============================] - 0s - loss: 0.7945 - acc: 0.6000     - ETA: 0s - loss: 0.8003 - acc: 0.6\n",
      "Epoch 82/100\n",
      "1300/1300 [==============================] - 0s - loss: 0.7900 - acc: 0.6062     \n",
      "Epoch 83/100\n",
      "1300/1300 [==============================] - 0s - loss: 0.7856 - acc: 0.6054     \n",
      "Epoch 84/100\n",
      "1300/1300 [==============================] - 0s - loss: 0.7894 - acc: 0.6015     \n",
      "Epoch 85/100\n"
     ]
    },
    {
     "name": "stdout",
     "output_type": "stream",
     "text": [
      "1300/1300 [==============================] - 0s - loss: 0.7834 - acc: 0.5954     \n",
      "Epoch 86/100\n",
      "1300/1300 [==============================] - 0s - loss: 0.7797 - acc: 0.6031     \n",
      "Epoch 87/100\n",
      "1300/1300 [==============================] - 0s - loss: 0.7761 - acc: 0.6008     \n",
      "Epoch 88/100\n",
      "1300/1300 [==============================] - 0s - loss: 0.7772 - acc: 0.5985     \n",
      "Epoch 89/100\n",
      "1300/1300 [==============================] - 0s - loss: 0.7662 - acc: 0.6023     \n",
      "Epoch 90/100\n",
      "1300/1300 [==============================] - 0s - loss: 0.7654 - acc: 0.5954     \n",
      "Epoch 91/100\n",
      "1300/1300 [==============================] - 0s - loss: 0.7659 - acc: 0.5946     \n",
      "Epoch 92/100\n",
      "1300/1300 [==============================] - 0s - loss: 0.7594 - acc: 0.5992     \n",
      "Epoch 93/100\n",
      "1300/1300 [==============================] - 0s - loss: 0.7586 - acc: 0.6038     \n",
      "Epoch 94/100\n",
      "1300/1300 [==============================] - 0s - loss: 0.7565 - acc: 0.5985     \n",
      "Epoch 95/100\n",
      "1300/1300 [==============================] - 0s - loss: 0.7544 - acc: 0.6015     \n",
      "Epoch 96/100\n",
      "1300/1300 [==============================] - 0s - loss: 0.7533 - acc: 0.5938     \n",
      "Epoch 97/100\n",
      "1300/1300 [==============================] - 0s - loss: 0.7473 - acc: 0.6031     \n",
      "Epoch 98/100\n",
      "1300/1300 [==============================] - 0s - loss: 0.7505 - acc: 0.5915     \n",
      "Epoch 99/100\n",
      "1300/1300 [==============================] - 0s - loss: 0.7463 - acc: 0.5954     \n",
      "Epoch 100/100\n",
      "1300/1300 [==============================] - 0s - loss: 0.7429 - acc: 0.6038     \n",
      "Evaluating...\n",
      "1024/1300 [======================>.......] - ETA: 0s\n",
      "Test loss and accuracy:[0.78490468520384571, 0.53153846172186048]\n"
     ]
    }
   ],
   "source": [
    "model = Sequential()\n",
    "model.add(Dense(200, input_dim = DATA_SIZE_ON_TRAIN * 10, activity_regularizer=regularizers.l2(0.01)))\n",
    "model.add(BatchNormalization())\n",
    "model.add(LeakyReLU())\n",
    "model.add(Dropout(0.5))\n",
    "\n",
    "model.add(Dense(50, activity_regularizer=regularizers.l2(0.01)))\n",
    "model.add(BatchNormalization())\n",
    "model.add(LeakyReLU())\n",
    "\n",
    "model.add(Dense(2))\n",
    "model.add(Activation('softmax'))\n",
    "\n",
    "opt = optimizers.Nadam(lr=0.001)\n",
    "\n",
    "model.compile(optimizer=opt, \n",
    "              loss='categorical_crossentropy',\n",
    "              metrics=['accuracy'])\n",
    "\n",
    "print(\"Training...\")\n",
    "model.fit(X_train, \n",
    "            Y_train, \n",
    "            epochs=100,\n",
    "            batch_size = 128,\n",
    "            verbose=1)\n",
    "\n",
    "print(\"Evaluating...\")\n",
    "score = model.evaluate(X_test, Y_test, batch_size=128)\n",
    "print(\"\\nTest loss and accuracy:\" + str(score))"
   ]
  },
  {
   "cell_type": "code",
   "execution_count": 24,
   "metadata": {},
   "outputs": [
    {
     "data": {
      "text/plain": [
       "[<matplotlib.lines.Line2D at 0x1c1c37e278>]"
      ]
     },
     "execution_count": 24,
     "metadata": {},
     "output_type": "execute_result"
    },
    {
     "data": {
      "image/png": "[encoded data removed]",
      "text/plain": [
       "<matplotlib.figure.Figure at 0x1c1af9c080>"
      ]
     },
     "metadata": {},
     "output_type": "display_data"
    }
   ],
   "source": [
    "predicted = model.predict(X_test)\n",
    "plt.plot(predicted[:100, 0], color='blue') # RED - trained PREDICTION\n",
    "#plt.plot(Y_test[:100, 1], color='red')"
   ]
  },
  {
   "cell_type": "code",
   "execution_count": null,
   "metadata": {
    "collapsed": true
   },
   "outputs": [],
   "source": []
  }
 ],
 "metadata": {
  "kernelspec": {
   "display_name": "Python 3",
   "language": "python",
   "name": "python3"
  },
  "language_info": {
   "codemirror_mode": {
    "name": "ipython",
    "version": 3
   },
   "file_extension": ".py",
   "mimetype": "text/x-python",
   "name": "python",
   "nbconvert_exporter": "python",
   "pygments_lexer": "ipython3",
   "version": "3.6.0"
  }
 },
 "nbformat": 4,
 "nbformat_minor": 2
}
